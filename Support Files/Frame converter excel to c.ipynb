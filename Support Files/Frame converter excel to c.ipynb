{
 "cells": [
  {
   "cell_type": "markdown",
   "metadata": {},
   "source": [
    "# Convert excel output to C array initialization format\n",
    "\n",
    "For use with incredible and amazing custom 54 x 18 shifty display developed by the super talented and handsome engineer named Michael Pillon.\n",
    "\n",
    "The ___Frame designer.xls___ excel workbook can convert a 54 x 18 grid of black and red squares to a list of 7 x 18 8-bit numbers. \n",
    "\n",
    "These numbers can be copied from the ___Decimal values___ section of a workbook page and pasted as the ___input\\_string___ below.\n",
    "\n",
    "By running this script, an output will be generated that can be copied into the C source code to initialize an array."
   ]
  },
  {
   "cell_type": "code",
   "execution_count": 23,
   "metadata": {},
   "outputs": [
    {
     "name": "stdout",
     "output_type": "stream",
     "text": [
      "{\n",
      "{0, 0, 0, 0, 0, 0, 0},\n",
      "{8, 190, 130, 7, 0, 0, 0},\n",
      "{8, 160, 130, 8, 128, 0, 0},\n",
      "{8, 160, 130, 8, 128, 65, 0},\n",
      "{15, 184, 130, 8, 128, 65, 0},\n",
      "{8, 160, 130, 8, 128, 65, 0},\n",
      "{8, 160, 130, 8, 128, 65, 0},\n",
      "{8, 190, 251, 231, 0, 65, 0},\n",
      "{0, 0, 0, 0, 0, 0, 0},\n",
      "{0, 0, 0, 0, 2, 0, 32},\n",
      "{8, 39, 60, 131, 194, 0, 32},\n",
      "{8, 40, 162, 130, 34, 0, 32},\n",
      "{9, 40, 162, 130, 33, 0, 64},\n",
      "{9, 40, 188, 130, 32, 128, 128},\n",
      "{9, 40, 162, 130, 32, 127, 0},\n",
      "{9, 40, 162, 130, 32, 0, 0},\n",
      "{6, 199, 34, 251, 192, 0, 0},\n",
      "{0, 0, 0, 0, 0, 0, 0},\n",
      "};\n"
     ]
    }
   ],
   "source": [
    "import numpy as np\n",
    "\n",
    "# Define the list of numbers in a string\n",
    "input_string = '''\n",
    "0\t0\t0\t0\t0\t0\t0\n",
    "8\t190\t130\t7\t0\t0\t0\n",
    "8\t160\t130\t8\t128\t0\t0\n",
    "8\t160\t130\t8\t128\t65\t0\n",
    "15\t184\t130\t8\t128\t65\t0\n",
    "8\t160\t130\t8\t128\t65\t0\n",
    "8\t160\t130\t8\t128\t65\t0\n",
    "8\t190\t251\t231\t0\t65\t0\n",
    "0\t0\t0\t0\t0\t0\t0\n",
    "0\t0\t0\t0\t2\t0\t32\n",
    "8\t39\t60\t131\t194\t0\t32\n",
    "8\t40\t162\t130\t34\t0\t32\n",
    "9\t40\t162\t130\t33\t0\t64\n",
    "9\t40\t188\t130\t32\t128\t128\n",
    "9\t40\t162\t130\t32\t127\t0\n",
    "9\t40\t162\t130\t32\t0\t0\n",
    "6\t199\t34\t251\t192\t0\t0\n",
    "0\t0\t0\t0\t0\t0\t0\n",
    "''' \n",
    "\n",
    "\n",
    "# Split the string into a list of numbers\n",
    "numbers = list(map(int, input_string.split()))\n",
    "\n",
    "# Check if the length of numbers matches 18x7 = 126\n",
    "if len(numbers) != 18 * 7:\n",
    "    raise ValueError(f\"Input does not contain 126 numbers, but {len(numbers)} numbers.\")\n",
    "\n",
    "# Reshape the list into an 18x7 2D array\n",
    "array_2d = np.array(numbers).reshape(18, 7)\n",
    "\n",
    "# Print out the array using the C array initilizing format\n",
    "print(\"{\")\n",
    "for n in range(0, 18):\n",
    "    print(\"{%i, %i, %i, %i, %i, %i, %i},\" % (array_2d[n][0], array_2d[n][1], array_2d[n][2], array_2d[n][3], array_2d[n][4], array_2d[n][5], array_2d[n][6]))\n",
    "print(\"};\")\n",
    "\n",
    "\n",
    "\n"
   ]
  }
 ],
 "metadata": {
  "kernelspec": {
   "display_name": "Python 3",
   "language": "python",
   "name": "python3"
  },
  "language_info": {
   "codemirror_mode": {
    "name": "ipython",
    "version": 3
   },
   "file_extension": ".py",
   "mimetype": "text/x-python",
   "name": "python",
   "nbconvert_exporter": "python",
   "pygments_lexer": "ipython3",
   "version": "3.7.9"
  }
 },
 "nbformat": 4,
 "nbformat_minor": 2
}
